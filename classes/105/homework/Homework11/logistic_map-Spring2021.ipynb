{
 "cells": [
  {
   "cell_type": "markdown",
   "metadata": {},
   "source": [
    "## The logistic map"
   ]
  },
  {
   "cell_type": "markdown",
   "metadata": {},
   "source": [
    "The iterative equation of the logistic map is\n",
    "\n",
    "$$x_{n+1} = rx_n(1-x_n)$$\n",
    "\n",
    "where $0 < r< 4$.  Use the following functions to explore the logistic map."
   ]
  },
  {
   "cell_type": "code",
   "execution_count": null,
   "metadata": {},
   "outputs": [],
   "source": [
    "import numpy as np\n",
    "import matplotlib.pyplot as plt\n",
    "\n",
    "#Defining function of logistic map\n",
    "def f(x, r):\n",
    "    return r*x*(1-x)\n",
    "\n",
    "def iterate(r, num_steps, burn):\n",
    "    x = 0.5\n",
    "    points = []\n",
    "    for i in range(num_steps):\n",
    "        x = f(x,r)\n",
    "        if i > burn:\n",
    "            points.append((r,x))\n",
    "    return(points)\n",
    "            \n",
    "def bifurcation_diagram(low, high, ylim):\n",
    "    points = []\n",
    "    r_list = np.linspace(low, high,1000)\n",
    "    for r in r_list:\n",
    "        points.extend(iterate(r,1000,500))   #you may want to scale these up for higher precision\n",
    "    fig, ax1 = plt.subplots(1, 1, figsize=(8, 8))\n",
    "    r, x = zip(*points)\n",
    "    ax1.plot(r, x, ',c', alpha=.1)\n",
    "    ax1.set_xlim(low, high)\n",
    "    ax1.set_ylim(ylim[0], ylim[1])\n",
    "    ax1.set_title(\"Bifurcation diagram\", fontsize = 20)\n",
    "    ax1.set_xlabel('r', fontsize=16)\n",
    "    ax1.set_ylabel('x', fontsize=16)\n",
    "    ax1.tick_params(axis='both', which='major', labelsize=14)\n",
    "    plt.show()\n",
    "    "
   ]
  },
  {
   "cell_type": "markdown",
   "metadata": {},
   "source": [
    "Consider figure 12.41 in Taylor.  The small rectangular box in it is enlarged and shown in figure 12.44.  Below we create both of these plots using the function above."
   ]
  },
  {
   "cell_type": "code",
   "execution_count": null,
   "metadata": {},
   "outputs": [],
   "source": [
    "bifurcation_diagram(2.8, 4.0, [0.0, 1.0])"
   ]
  },
  {
   "cell_type": "code",
   "execution_count": null,
   "metadata": {},
   "outputs": [],
   "source": [
    "bifurcation_diagram(3.84, 3.857, [0.44, 0.56])"
   ]
  },
  {
   "cell_type": "code",
   "execution_count": null,
   "metadata": {},
   "outputs": [],
   "source": []
  }
 ],
 "metadata": {
  "kernelspec": {
   "display_name": "Python 3",
   "language": "python",
   "name": "python3"
  },
  "language_info": {
   "codemirror_mode": {
    "name": "ipython",
    "version": 3
   },
   "file_extension": ".py",
   "mimetype": "text/x-python",
   "name": "python",
   "nbconvert_exporter": "python",
   "pygments_lexer": "ipython3",
   "version": "3.8.8"
  }
 },
 "nbformat": 4,
 "nbformat_minor": 2
}
